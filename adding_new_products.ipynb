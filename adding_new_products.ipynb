{
  "nbformat": 4,
  "nbformat_minor": 0,
  "metadata": {
    "colab": {
      "name": "adding new products.ipynb",
      "provenance": []
    },
    "kernelspec": {
      "name": "python3",
      "display_name": "Python 3"
    },
    "language_info": {
      "name": "python"
    }
  },
  "cells": [
    {
      "cell_type": "code",
      "metadata": {
        "id": "pD7YqL7JOxyK"
      },
      "source": [
        "record = {100: {\"Name\": \"shampoo\", \"Pid\": 120, \"loc\": \"blore\", \"Price\": 750, \"Quantity\":72},\n",
        "          101: {\"Name\": \"toothpaste\", \"Pid\": 140, \"loc\": \"pune\", \"Price\":10 ,\"Quantity\": 41},\n",
        "          102: {\"Name\": \"brush\", \"Pid\": 180, \"loc\": \"AP\", \"Price\": 60, \"Quantity\":32},\n",
        "          103: {\"Name\": \"coomb\", \"Pid\": 401, \"loc\": \"bihar\", \"Price\": 75, \"Quantity\":40},\n",
        "          104: {\"Name\": \"rice\", \"Pid\": 104, \"loc\": \"blore\", \"Price\": 55, \"Quantity\":700},\n",
        "          105: {\"Name\": \"tape\", \"Pid\": 101, \"loc\": \"TN\", \"Price\": 20, \"Quantity\":50},\n",
        "          106: {\"Name\": \"bag\", \"Pid\": 500, \"loc\": \"UP\", \"Price\": 800, \"Quantity\":15},\n",
        "          107: {\"Name\": \"lunchbag\", \"Pid\": 140, \"loc\": \"AP\", \"Price\": 500, \"Quantity\":12},\n",
        "          108: {\"Name\": \"mask\", \"Pid\": 10, \"loc\": \"Blore\", \"Price\": 20, \"Quantity\":1000},\n",
        "          109: {\"Name\": \"box\", \"Pid\": 151, \"loc\": \"GUJ\", \"Price\": 100, \"Quantity\":45},\n",
        "          110: {\"Name\": \"pilow\", \"Pid\": 115, \"loc\": \"KL\", \"Price\": 200, \"Quantity\":60},\n",
        "          111: {\"Name\": \"cover\", \"Pid\": 170, \"loc\": \"HY\", \"Price\": 10, \"Quantity\":1000},\n",
        "          112: {\"Name\": \"table\", \"Pid\": 111, \"loc\": \"JK\", \"Price\": 104, \"Quantity\":50},\n",
        "          113: {\"Name\": \"plate\", \"Pid\": 110, \"loc\": \"AS\", \"Price\": 50, \"Quantity\":100},\n",
        "          114: {\"Name\": \"pillow cover\", \"Pid\": 120, \"loc\": \"AP\", \"Price\": 55, \"Quantity\":150},\n",
        "          115: {\"Name\": \"daal\", \"Pid\": 400, \"loc\": \"Blore\", \"Price\": 60, \"Quantity\":8000},\n",
        "          116: {\"Name\": \"dry grapes\", \"Pid\": 470, \"loc\": \"KL\", \"Price\": 750, \"Quantity\":50000},\n",
        "          117: {\"Name\": \"cashew\", \"Pid\": 502, \"loc\": \"Blore\", \"Price\": 600, \"Quantity\":50000},\n",
        "          118: {\"Name\": \"spoon\", \"Pid\": 113, \"loc\": \"JK\", \"Price\": 25, \"Quantity\":300},\n",
        "          119: {\"Name\": \"toothpick\", \"Pid\": 185, \"loc\": \"UP\", \"Price\": 40, \"Quantity\":50},\n",
        "          120: {\"Name\": \"book\", \"Pid\": 187, \"loc\": \"AP\", \"Price\": 80, \"Quantity\":60},\n",
        "          121: {\"Name\": \"pen\", \"Pid\": 155, \"loc\": \"GUJ\", \"Price\": 8, \"Quantity\":320},\n",
        "          122: {\"Name\": \"utensil kit\", \"Pid\": 133, \"loc\": \"AP\", \"Price\": 180, \"Quantity\":100},\n",
        "          123: {\"Name\": \"redbeads\", \"Pid\": 137, \"loc\": \"Blore\", \"Price\": 40, \"Quantity\":500},\n",
        "          124: {\"Name\": \"mobile\", \"Pid\": 330, \"loc\": \"JK\", \"Price\": 70000, \"Quantity\":600},\n",
        "          125: {\"Name\": \"earphines\", \"Pid\": 340, \"loc\": \"MP\", \"Price\": 800, \"Quantity\":320},\n",
        "          126: {\"Name\": \"earbuds\", \"Pid\": 186, \"loc\": \"GUJ\", \"Price\": 80, \"Quantity\":3260},\n",
        "          127: {\"Name\": \"charger\", \"Pid\": 237, \"loc\": \"KL\", \"Price\": 500, \"Quantity\":600},\n",
        "          128: {\"Name\": \"paintkit\", \"Pid\": 573, \"loc\": \"JK\", \"Price\": 150, \"Quantity\":1132},\n",
        "          129: {\"Name\": \"paintbrushes\", \"Pid\": 611, \"loc\": \"DL\", \"Price\": 60, \"Quantity\":360},\n",
        "          130: {\"Name\": \"mirror\", \"Pid\": 177, \"loc\": \"BLore\", \"Price\": 150, \"Quantity\":55}}"
      ],
      "execution_count": 63,
      "outputs": []
    },
    {
      "cell_type": "code",
      "metadata": {
        "colab": {
          "base_uri": "https://localhost:8080/"
        },
        "id": "bgI0g4GoRXd0",
        "outputId": "4d10200b-4096-486e-dcb4-f9ee16956e06"
      },
      "source": [
        "for i in record:\n",
        "    print(i,\" = \",record[i],\"\\n\")"
      ],
      "execution_count": 64,
      "outputs": [
        {
          "output_type": "stream",
          "name": "stdout",
          "text": [
            "100  =  {'Name': 'shampoo', 'Pid': 120, 'loc': 'blore', 'Price': 750, 'Quantity': 72} \n",
            "\n",
            "101  =  {'Name': 'toothpaste', 'Pid': 140, 'loc': 'pune', 'Price': 10, 'Quantity': 41} \n",
            "\n",
            "102  =  {'Name': 'brush', 'Pid': 180, 'loc': 'AP', 'Price': 60, 'Quantity': 32} \n",
            "\n",
            "103  =  {'Name': 'coomb', 'Pid': 401, 'loc': 'bihar', 'Price': 75, 'Quantity': 40} \n",
            "\n",
            "104  =  {'Name': 'rice', 'Pid': 104, 'loc': 'blore', 'Price': 55, 'Quantity': 700} \n",
            "\n",
            "105  =  {'Name': 'tape', 'Pid': 101, 'loc': 'TN', 'Price': 20, 'Quantity': 50} \n",
            "\n",
            "106  =  {'Name': 'bag', 'Pid': 500, 'loc': 'UP', 'Price': 800, 'Quantity': 15} \n",
            "\n",
            "107  =  {'Name': 'lunchbag', 'Pid': 140, 'loc': 'AP', 'Price': 500, 'Quantity': 12} \n",
            "\n",
            "108  =  {'Name': 'mask', 'Pid': 10, 'loc': 'Blore', 'Price': 20, 'Quantity': 1000} \n",
            "\n",
            "109  =  {'Name': 'box', 'Pid': 151, 'loc': 'GUJ', 'Price': 100, 'Quantity': 45} \n",
            "\n",
            "110  =  {'Name': 'pilow', 'Pid': 115, 'loc': 'KL', 'Price': 200, 'Quantity': 60} \n",
            "\n",
            "111  =  {'Name': 'cover', 'Pid': 170, 'loc': 'HY', 'Price': 10, 'Quantity': 1000} \n",
            "\n",
            "112  =  {'Name': 'table', 'Pid': 111, 'loc': 'JK', 'Price': 104, 'Quantity': 50} \n",
            "\n",
            "113  =  {'Name': 'plate', 'Pid': 110, 'loc': 'AS', 'Price': 50, 'Quantity': 100} \n",
            "\n",
            "114  =  {'Name': 'pillow cover', 'Pid': 120, 'loc': 'AP', 'Price': 55, 'Quantity': 150} \n",
            "\n",
            "115  =  {'Name': 'daal', 'Pid': 400, 'loc': 'Blore', 'Price': 60, 'Quantity': 8000} \n",
            "\n",
            "116  =  {'Name': 'dry grapes', 'Pid': 470, 'loc': 'KL', 'Price': 750, 'Quantity': 50000} \n",
            "\n",
            "117  =  {'Name': 'cashew', 'Pid': 502, 'loc': 'Blore', 'Price': 600, 'Quantity': 50000} \n",
            "\n",
            "118  =  {'Name': 'spoon', 'Pid': 113, 'loc': 'JK', 'Price': 25, 'Quantity': 300} \n",
            "\n",
            "119  =  {'Name': 'toothpick', 'Pid': 185, 'loc': 'UP', 'Price': 40, 'Quantity': 50} \n",
            "\n",
            "120  =  {'Name': 'book', 'Pid': 187, 'loc': 'AP', 'Price': 80, 'Quantity': 60} \n",
            "\n",
            "121  =  {'Name': 'pen', 'Pid': 155, 'loc': 'GUJ', 'Price': 8, 'Quantity': 320} \n",
            "\n",
            "122  =  {'Name': 'utensil kit', 'Pid': 133, 'loc': 'AP', 'Price': 180, 'Quantity': 100} \n",
            "\n",
            "123  =  {'Name': 'redbeads', 'Pid': 137, 'loc': 'Blore', 'Price': 40, 'Quantity': 500} \n",
            "\n",
            "124  =  {'Name': 'mobile', 'Pid': 330, 'loc': 'JK', 'Price': 70000, 'Quantity': 600} \n",
            "\n",
            "125  =  {'Name': 'earphines', 'Pid': 340, 'loc': 'MP', 'Price': 800, 'Quantity': 320} \n",
            "\n",
            "126  =  {'Name': 'earbuds', 'Pid': 186, 'loc': 'GUJ', 'Price': 80, 'Quantity': 3260} \n",
            "\n",
            "127  =  {'Name': 'charger', 'Pid': 237, 'loc': 'KL', 'Price': 500, 'Quantity': 600} \n",
            "\n",
            "128  =  {'Name': 'paintkit', 'Pid': 573, 'loc': 'JK', 'Price': 150, 'Quantity': 1132} \n",
            "\n",
            "129  =  {'Name': 'paintbrushes', 'Pid': 611, 'loc': 'DL', 'Price': 60, 'Quantity': 360} \n",
            "\n",
            "130  =  {'Name': 'mirror', 'Pid': 177, 'loc': 'BLore', 'Price': 150, 'Quantity': 55} \n",
            "\n"
          ]
        }
      ]
    },
    {
      "cell_type": "code",
      "metadata": {
        "id": "OLnYYrVbRZT1"
      },
      "source": [
        "import json\n",
        "js=json.dumps(record)"
      ],
      "execution_count": 65,
      "outputs": []
    },
    {
      "cell_type": "code",
      "metadata": {
        "colab": {
          "base_uri": "https://localhost:8080/",
          "height": 171
        },
        "id": "77msU9EcRdtp",
        "outputId": "64350229-3551-41ef-92c2-d53ad6f3f089"
      },
      "source": [
        "js"
      ],
      "execution_count": 66,
      "outputs": [
        {
          "output_type": "execute_result",
          "data": {
            "application/vnd.google.colaboratory.intrinsic+json": {
              "type": "string"
            },
            "text/plain": [
              "'{\"100\": {\"Name\": \"shampoo\", \"Pid\": 120, \"loc\": \"blore\", \"Price\": 750, \"Quantity\": 72}, \"101\": {\"Name\": \"toothpaste\", \"Pid\": 140, \"loc\": \"pune\", \"Price\": 10, \"Quantity\": 41}, \"102\": {\"Name\": \"brush\", \"Pid\": 180, \"loc\": \"AP\", \"Price\": 60, \"Quantity\": 32}, \"103\": {\"Name\": \"coomb\", \"Pid\": 401, \"loc\": \"bihar\", \"Price\": 75, \"Quantity\": 40}, \"104\": {\"Name\": \"rice\", \"Pid\": 104, \"loc\": \"blore\", \"Price\": 55, \"Quantity\": 700}, \"105\": {\"Name\": \"tape\", \"Pid\": 101, \"loc\": \"TN\", \"Price\": 20, \"Quantity\": 50}, \"106\": {\"Name\": \"bag\", \"Pid\": 500, \"loc\": \"UP\", \"Price\": 800, \"Quantity\": 15}, \"107\": {\"Name\": \"lunchbag\", \"Pid\": 140, \"loc\": \"AP\", \"Price\": 500, \"Quantity\": 12}, \"108\": {\"Name\": \"mask\", \"Pid\": 10, \"loc\": \"Blore\", \"Price\": 20, \"Quantity\": 1000}, \"109\": {\"Name\": \"box\", \"Pid\": 151, \"loc\": \"GUJ\", \"Price\": 100, \"Quantity\": 45}, \"110\": {\"Name\": \"pilow\", \"Pid\": 115, \"loc\": \"KL\", \"Price\": 200, \"Quantity\": 60}, \"111\": {\"Name\": \"cover\", \"Pid\": 170, \"loc\": \"HY\", \"Price\": 10, \"Quantity\": 1000}, \"112\": {\"Name\": \"table\", \"Pid\": 111, \"loc\": \"JK\", \"Price\": 104, \"Quantity\": 50}, \"113\": {\"Name\": \"plate\", \"Pid\": 110, \"loc\": \"AS\", \"Price\": 50, \"Quantity\": 100}, \"114\": {\"Name\": \"pillow cover\", \"Pid\": 120, \"loc\": \"AP\", \"Price\": 55, \"Quantity\": 150}, \"115\": {\"Name\": \"daal\", \"Pid\": 400, \"loc\": \"Blore\", \"Price\": 60, \"Quantity\": 8000}, \"116\": {\"Name\": \"dry grapes\", \"Pid\": 470, \"loc\": \"KL\", \"Price\": 750, \"Quantity\": 50000}, \"117\": {\"Name\": \"cashew\", \"Pid\": 502, \"loc\": \"Blore\", \"Price\": 600, \"Quantity\": 50000}, \"118\": {\"Name\": \"spoon\", \"Pid\": 113, \"loc\": \"JK\", \"Price\": 25, \"Quantity\": 300}, \"119\": {\"Name\": \"toothpick\", \"Pid\": 185, \"loc\": \"UP\", \"Price\": 40, \"Quantity\": 50}, \"120\": {\"Name\": \"book\", \"Pid\": 187, \"loc\": \"AP\", \"Price\": 80, \"Quantity\": 60}, \"121\": {\"Name\": \"pen\", \"Pid\": 155, \"loc\": \"GUJ\", \"Price\": 8, \"Quantity\": 320}, \"122\": {\"Name\": \"utensil kit\", \"Pid\": 133, \"loc\": \"AP\", \"Price\": 180, \"Quantity\": 100}, \"123\": {\"Name\": \"redbeads\", \"Pid\": 137, \"loc\": \"Blore\", \"Price\": 40, \"Quantity\": 500}, \"124\": {\"Name\": \"mobile\", \"Pid\": 330, \"loc\": \"JK\", \"Price\": 70000, \"Quantity\": 600}, \"125\": {\"Name\": \"earphines\", \"Pid\": 340, \"loc\": \"MP\", \"Price\": 800, \"Quantity\": 320}, \"126\": {\"Name\": \"earbuds\", \"Pid\": 186, \"loc\": \"GUJ\", \"Price\": 80, \"Quantity\": 3260}, \"127\": {\"Name\": \"charger\", \"Pid\": 237, \"loc\": \"KL\", \"Price\": 500, \"Quantity\": 600}, \"128\": {\"Name\": \"paintkit\", \"Pid\": 573, \"loc\": \"JK\", \"Price\": 150, \"Quantity\": 1132}, \"129\": {\"Name\": \"paintbrushes\", \"Pid\": 611, \"loc\": \"DL\", \"Price\": 60, \"Quantity\": 360}, \"130\": {\"Name\": \"mirror\", \"Pid\": 177, \"loc\": \"BLore\", \"Price\": 150, \"Quantity\": 55}}'"
            ]
          },
          "metadata": {},
          "execution_count": 66
        }
      ]
    },
    {
      "cell_type": "code",
      "metadata": {
        "id": "_s9A_oy8RhcO"
      },
      "source": [
        "fd=open(\"record.json\",\"w\")    \n",
        "fd.write(js)\n",
        "fd.close()"
      ],
      "execution_count": 67,
      "outputs": []
    },
    {
      "cell_type": "code",
      "metadata": {
        "colab": {
          "base_uri": "https://localhost:8080/"
        },
        "id": "I4wsRwtDRqjg",
        "outputId": "65857042-deb5-4cda-91ce-58c91b342c63"
      },
      "source": [
        "fd=open(\"record.json\",\"r\")\n",
        "txt=fd.read()\n",
        "fd.close()\n",
        "type(txt)"
      ],
      "execution_count": 68,
      "outputs": [
        {
          "output_type": "execute_result",
          "data": {
            "text/plain": [
              "str"
            ]
          },
          "metadata": {},
          "execution_count": 68
        }
      ]
    },
    {
      "cell_type": "code",
      "metadata": {
        "colab": {
          "base_uri": "https://localhost:8080/",
          "height": 171
        },
        "id": "gYts4EvdRtiI",
        "outputId": "462db0c7-d7af-409c-8eeb-535b18647947"
      },
      "source": [
        "txt"
      ],
      "execution_count": 69,
      "outputs": [
        {
          "output_type": "execute_result",
          "data": {
            "application/vnd.google.colaboratory.intrinsic+json": {
              "type": "string"
            },
            "text/plain": [
              "'{\"100\": {\"Name\": \"shampoo\", \"Pid\": 120, \"loc\": \"blore\", \"Price\": 750, \"Quantity\": 72}, \"101\": {\"Name\": \"toothpaste\", \"Pid\": 140, \"loc\": \"pune\", \"Price\": 10, \"Quantity\": 41}, \"102\": {\"Name\": \"brush\", \"Pid\": 180, \"loc\": \"AP\", \"Price\": 60, \"Quantity\": 32}, \"103\": {\"Name\": \"coomb\", \"Pid\": 401, \"loc\": \"bihar\", \"Price\": 75, \"Quantity\": 40}, \"104\": {\"Name\": \"rice\", \"Pid\": 104, \"loc\": \"blore\", \"Price\": 55, \"Quantity\": 700}, \"105\": {\"Name\": \"tape\", \"Pid\": 101, \"loc\": \"TN\", \"Price\": 20, \"Quantity\": 50}, \"106\": {\"Name\": \"bag\", \"Pid\": 500, \"loc\": \"UP\", \"Price\": 800, \"Quantity\": 15}, \"107\": {\"Name\": \"lunchbag\", \"Pid\": 140, \"loc\": \"AP\", \"Price\": 500, \"Quantity\": 12}, \"108\": {\"Name\": \"mask\", \"Pid\": 10, \"loc\": \"Blore\", \"Price\": 20, \"Quantity\": 1000}, \"109\": {\"Name\": \"box\", \"Pid\": 151, \"loc\": \"GUJ\", \"Price\": 100, \"Quantity\": 45}, \"110\": {\"Name\": \"pilow\", \"Pid\": 115, \"loc\": \"KL\", \"Price\": 200, \"Quantity\": 60}, \"111\": {\"Name\": \"cover\", \"Pid\": 170, \"loc\": \"HY\", \"Price\": 10, \"Quantity\": 1000}, \"112\": {\"Name\": \"table\", \"Pid\": 111, \"loc\": \"JK\", \"Price\": 104, \"Quantity\": 50}, \"113\": {\"Name\": \"plate\", \"Pid\": 110, \"loc\": \"AS\", \"Price\": 50, \"Quantity\": 100}, \"114\": {\"Name\": \"pillow cover\", \"Pid\": 120, \"loc\": \"AP\", \"Price\": 55, \"Quantity\": 150}, \"115\": {\"Name\": \"daal\", \"Pid\": 400, \"loc\": \"Blore\", \"Price\": 60, \"Quantity\": 8000}, \"116\": {\"Name\": \"dry grapes\", \"Pid\": 470, \"loc\": \"KL\", \"Price\": 750, \"Quantity\": 50000}, \"117\": {\"Name\": \"cashew\", \"Pid\": 502, \"loc\": \"Blore\", \"Price\": 600, \"Quantity\": 50000}, \"118\": {\"Name\": \"spoon\", \"Pid\": 113, \"loc\": \"JK\", \"Price\": 25, \"Quantity\": 300}, \"119\": {\"Name\": \"toothpick\", \"Pid\": 185, \"loc\": \"UP\", \"Price\": 40, \"Quantity\": 50}, \"120\": {\"Name\": \"book\", \"Pid\": 187, \"loc\": \"AP\", \"Price\": 80, \"Quantity\": 60}, \"121\": {\"Name\": \"pen\", \"Pid\": 155, \"loc\": \"GUJ\", \"Price\": 8, \"Quantity\": 320}, \"122\": {\"Name\": \"utensil kit\", \"Pid\": 133, \"loc\": \"AP\", \"Price\": 180, \"Quantity\": 100}, \"123\": {\"Name\": \"redbeads\", \"Pid\": 137, \"loc\": \"Blore\", \"Price\": 40, \"Quantity\": 500}, \"124\": {\"Name\": \"mobile\", \"Pid\": 330, \"loc\": \"JK\", \"Price\": 70000, \"Quantity\": 600}, \"125\": {\"Name\": \"earphines\", \"Pid\": 340, \"loc\": \"MP\", \"Price\": 800, \"Quantity\": 320}, \"126\": {\"Name\": \"earbuds\", \"Pid\": 186, \"loc\": \"GUJ\", \"Price\": 80, \"Quantity\": 3260}, \"127\": {\"Name\": \"charger\", \"Pid\": 237, \"loc\": \"KL\", \"Price\": 500, \"Quantity\": 600}, \"128\": {\"Name\": \"paintkit\", \"Pid\": 573, \"loc\": \"JK\", \"Price\": 150, \"Quantity\": 1132}, \"129\": {\"Name\": \"paintbrushes\", \"Pid\": 611, \"loc\": \"DL\", \"Price\": 60, \"Quantity\": 360}, \"130\": {\"Name\": \"mirror\", \"Pid\": 177, \"loc\": \"BLore\", \"Price\": 150, \"Quantity\": 55}}'"
            ]
          },
          "metadata": {},
          "execution_count": 69
        }
      ]
    },
    {
      "cell_type": "code",
      "metadata": {
        "colab": {
          "base_uri": "https://localhost:8080/"
        },
        "id": "fJgKt1ULRvSR",
        "outputId": "0fbe1945-8c85-4c81-c2df-24b51a73fca4"
      },
      "source": [
        "\n",
        "jd=json.loads(txt)\n",
        "type(jd)"
      ],
      "execution_count": 70,
      "outputs": [
        {
          "output_type": "execute_result",
          "data": {
            "text/plain": [
              "dict"
            ]
          },
          "metadata": {},
          "execution_count": 70
        }
      ]
    },
    {
      "cell_type": "code",
      "metadata": {
        "colab": {
          "base_uri": "https://localhost:8080/"
        },
        "id": "oiv--3YmR01S",
        "outputId": "af59d4af-2e4b-4521-fbb2-37d3bd38f6a9"
      },
      "source": [
        "jd"
      ],
      "execution_count": 71,
      "outputs": [
        {
          "output_type": "execute_result",
          "data": {
            "text/plain": [
              "{'100': {'Name': 'shampoo',\n",
              "  'Pid': 120,\n",
              "  'Price': 750,\n",
              "  'Quantity': 72,\n",
              "  'loc': 'blore'},\n",
              " '101': {'Name': 'toothpaste',\n",
              "  'Pid': 140,\n",
              "  'Price': 10,\n",
              "  'Quantity': 41,\n",
              "  'loc': 'pune'},\n",
              " '102': {'Name': 'brush',\n",
              "  'Pid': 180,\n",
              "  'Price': 60,\n",
              "  'Quantity': 32,\n",
              "  'loc': 'AP'},\n",
              " '103': {'Name': 'coomb',\n",
              "  'Pid': 401,\n",
              "  'Price': 75,\n",
              "  'Quantity': 40,\n",
              "  'loc': 'bihar'},\n",
              " '104': {'Name': 'rice',\n",
              "  'Pid': 104,\n",
              "  'Price': 55,\n",
              "  'Quantity': 700,\n",
              "  'loc': 'blore'},\n",
              " '105': {'Name': 'tape', 'Pid': 101, 'Price': 20, 'Quantity': 50, 'loc': 'TN'},\n",
              " '106': {'Name': 'bag', 'Pid': 500, 'Price': 800, 'Quantity': 15, 'loc': 'UP'},\n",
              " '107': {'Name': 'lunchbag',\n",
              "  'Pid': 140,\n",
              "  'Price': 500,\n",
              "  'Quantity': 12,\n",
              "  'loc': 'AP'},\n",
              " '108': {'Name': 'mask',\n",
              "  'Pid': 10,\n",
              "  'Price': 20,\n",
              "  'Quantity': 1000,\n",
              "  'loc': 'Blore'},\n",
              " '109': {'Name': 'box',\n",
              "  'Pid': 151,\n",
              "  'Price': 100,\n",
              "  'Quantity': 45,\n",
              "  'loc': 'GUJ'},\n",
              " '110': {'Name': 'pilow',\n",
              "  'Pid': 115,\n",
              "  'Price': 200,\n",
              "  'Quantity': 60,\n",
              "  'loc': 'KL'},\n",
              " '111': {'Name': 'cover',\n",
              "  'Pid': 170,\n",
              "  'Price': 10,\n",
              "  'Quantity': 1000,\n",
              "  'loc': 'HY'},\n",
              " '112': {'Name': 'table',\n",
              "  'Pid': 111,\n",
              "  'Price': 104,\n",
              "  'Quantity': 50,\n",
              "  'loc': 'JK'},\n",
              " '113': {'Name': 'plate',\n",
              "  'Pid': 110,\n",
              "  'Price': 50,\n",
              "  'Quantity': 100,\n",
              "  'loc': 'AS'},\n",
              " '114': {'Name': 'pillow cover',\n",
              "  'Pid': 120,\n",
              "  'Price': 55,\n",
              "  'Quantity': 150,\n",
              "  'loc': 'AP'},\n",
              " '115': {'Name': 'daal',\n",
              "  'Pid': 400,\n",
              "  'Price': 60,\n",
              "  'Quantity': 8000,\n",
              "  'loc': 'Blore'},\n",
              " '116': {'Name': 'dry grapes',\n",
              "  'Pid': 470,\n",
              "  'Price': 750,\n",
              "  'Quantity': 50000,\n",
              "  'loc': 'KL'},\n",
              " '117': {'Name': 'cashew',\n",
              "  'Pid': 502,\n",
              "  'Price': 600,\n",
              "  'Quantity': 50000,\n",
              "  'loc': 'Blore'},\n",
              " '118': {'Name': 'spoon',\n",
              "  'Pid': 113,\n",
              "  'Price': 25,\n",
              "  'Quantity': 300,\n",
              "  'loc': 'JK'},\n",
              " '119': {'Name': 'toothpick',\n",
              "  'Pid': 185,\n",
              "  'Price': 40,\n",
              "  'Quantity': 50,\n",
              "  'loc': 'UP'},\n",
              " '120': {'Name': 'book', 'Pid': 187, 'Price': 80, 'Quantity': 60, 'loc': 'AP'},\n",
              " '121': {'Name': 'pen', 'Pid': 155, 'Price': 8, 'Quantity': 320, 'loc': 'GUJ'},\n",
              " '122': {'Name': 'utensil kit',\n",
              "  'Pid': 133,\n",
              "  'Price': 180,\n",
              "  'Quantity': 100,\n",
              "  'loc': 'AP'},\n",
              " '123': {'Name': 'redbeads',\n",
              "  'Pid': 137,\n",
              "  'Price': 40,\n",
              "  'Quantity': 500,\n",
              "  'loc': 'Blore'},\n",
              " '124': {'Name': 'mobile',\n",
              "  'Pid': 330,\n",
              "  'Price': 70000,\n",
              "  'Quantity': 600,\n",
              "  'loc': 'JK'},\n",
              " '125': {'Name': 'earphines',\n",
              "  'Pid': 340,\n",
              "  'Price': 800,\n",
              "  'Quantity': 320,\n",
              "  'loc': 'MP'},\n",
              " '126': {'Name': 'earbuds',\n",
              "  'Pid': 186,\n",
              "  'Price': 80,\n",
              "  'Quantity': 3260,\n",
              "  'loc': 'GUJ'},\n",
              " '127': {'Name': 'charger',\n",
              "  'Pid': 237,\n",
              "  'Price': 500,\n",
              "  'Quantity': 600,\n",
              "  'loc': 'KL'},\n",
              " '128': {'Name': 'paintkit',\n",
              "  'Pid': 573,\n",
              "  'Price': 150,\n",
              "  'Quantity': 1132,\n",
              "  'loc': 'JK'},\n",
              " '129': {'Name': 'paintbrushes',\n",
              "  'Pid': 611,\n",
              "  'Price': 60,\n",
              "  'Quantity': 360,\n",
              "  'loc': 'DL'},\n",
              " '130': {'Name': 'mirror',\n",
              "  'Pid': 177,\n",
              "  'Price': 150,\n",
              "  'Quantity': 55,\n",
              "  'loc': 'BLore'}}"
            ]
          },
          "metadata": {},
          "execution_count": 71
        }
      ]
    },
    {
      "cell_type": "code",
      "metadata": {
        "colab": {
          "base_uri": "https://localhost:8080/"
        },
        "id": "ahG2R3pyR2zY",
        "outputId": "17d5a756-d496-40a5-f90e-f949b2e91aac"
      },
      "source": [
        "#billing of the products being purchased \n",
        "nme=input(\"Entre the name of the product: \")\n",
        "qua=int(input(\"Entre the quantity being purchased: \"))\n",
        "for i in record:\n",
        "    if (nme == record[i][\"Name\"] and record[i][\"Quantity\"]>0):\n",
        "        print(\"*****************\")\n",
        "        print(\"PID: \",record[i][\"Pid\"])\n",
        "        print(\"Name: \",record[i][\"Name\"])\n",
        "        print(\"Quantity_purchased: \",qua)\n",
        "        print(\"Price: \",record[i][\"Price\"])\n",
        "        print(\"Location: \",record[i][\"loc\"])\n",
        "        print(\"*****************************\")\n",
        "        print(\"Total BILLING AMOUNT: \", record[i][\"Price\"]*qua)\n",
        "        print(\"*****************************\")"
      ],
      "execution_count": 77,
      "outputs": [
        {
          "output_type": "stream",
          "name": "stdout",
          "text": [
            "Entre the name of the product: mirror\n",
            "Entre the quantity being purchased: 5\n",
            "*****************\n",
            "PID:  177\n",
            "Name:  mirror\n",
            "Quantity_purchased:  5\n",
            "Price:  150\n",
            "Location:  BLore\n",
            "*****************************\n",
            "Total BILLING AMOUNT:  750\n",
            "*****************************\n"
          ]
        }
      ]
    },
    {
      "cell_type": "code",
      "metadata": {
        "colab": {
          "base_uri": "https://localhost:8080/"
        },
        "id": "HqEilNqISMEI",
        "outputId": "aab5f175-33f4-48b9-8ddf-cb5c756c12da"
      },
      "source": [
        "#checking stock for the product\n",
        "name=input(\"Enter Name of the product: \")\n",
        "for i in record:\n",
        "    if(name==record[i][\"Name\"] and record[i][\"Quantity\"]>0):\n",
        "        print(\"Total Stock: \",record[i][\"Quantity\"])\n",
        "    if(name==record[i][\"Name\"] and record[i][\"Quantity\"]<0):\n",
        "        print(\"stock not available\")"
      ],
      "execution_count": 75,
      "outputs": [
        {
          "output_type": "stream",
          "name": "stdout",
          "text": [
            "Enter Name of the product: toothpaste\n",
            "Total Stock:  41\n"
          ]
        }
      ]
    },
    {
      "cell_type": "code",
      "metadata": {
        "colab": {
          "base_uri": "https://localhost:8080/"
        },
        "id": "-gnVeXnxuImi",
        "outputId": "fbd780cf-a967-449a-856e-813e5c218d4c"
      },
      "source": [
        "#checking the inventory price for a particular product\n",
        "name=input(\"Enter Name of the product: \")\n",
        "for i in record:\n",
        "    if(name==record[i][\"Name\"]):\n",
        "        print(\"Inventory price for \", name, \" is: \", record[i][\"Quantity\"]*record[i][\"Price\"])"
      ],
      "execution_count": 78,
      "outputs": [
        {
          "output_type": "stream",
          "name": "stdout",
          "text": [
            "Enter Name of the product: rice\n",
            "Inventory price for  rice  is:  38500\n"
          ]
        }
      ]
    }
  ]
}